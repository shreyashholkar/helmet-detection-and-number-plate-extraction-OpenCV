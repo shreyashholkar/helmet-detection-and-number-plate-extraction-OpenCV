{
 "cells": [
  {
   "cell_type": "code",
   "execution_count": 10,
   "id": "9558c5fd",
   "metadata": {},
   "outputs": [],
   "source": [
    "# Loading the required python modules\n",
    "import cv2\n",
    "import numpy as np\n",
    "import imutils\n",
    "from tensorflow.keras.models import load_model\n",
    "import time\n",
    "import matplotlib.pyplot as plt\n",
    "import glob\n",
    "import os\n",
    "import pytesseract\n",
    "pytesseract.pytesseract.tesseract_cmd = r'C:/Program Files/Tesseract-OCR/tesseract.exe'"
   ]
  },
  {
   "cell_type": "code",
   "execution_count": 11,
   "id": "7f31cd7d",
   "metadata": {},
   "outputs": [
    {
     "name": "stdout",
     "output_type": "stream",
     "text": [
      "model loaded!!!\n"
     ]
    }
   ],
   "source": [
    "os.environ['TF_FORCE_GPU_ALLOW_GROWTH'] = 'true'\n",
    "\n",
    "net = cv2.dnn.readNet(\"D:/MIT/Sem 7/CV/Projeckt'/New folder/yolov3-custom_7000.weights\", \"D:/MIT/Sem 7/CV/Projeckt'/New folder/yolov3-custom.cfg\")\n",
    "net.setPreferableBackend(cv2.dnn.DNN_BACKEND_CUDA)\n",
    "net.setPreferableTarget(cv2.dnn.DNN_TARGET_CUDA)\n",
    "\n",
    "\n",
    "model = load_model(\"D:/MIT/Sem 7/CV/Projeckt'/New folder/helmet-nonhelmet_cnn.h5\")\n",
    "print('model loaded!!!')\n",
    "\n",
    "cap = cv2.VideoCapture(\"D:/MIT/Sem 7/CV/Projeckt'/New folder/video.mp4\")\n",
    "COLORS = [(0,255,0),(0,0,255)]\n",
    "\n",
    "layer_names = net.getLayerNames()\n",
    "output_layers = [layer_names[i - 1] for i in net.getUnconnectedOutLayers()]\n",
    " \n",
    "\n",
    "fourcc = cv2.VideoWriter_fourcc(*\"XVID\")\n",
    "writer = cv2.VideoWriter('output.avi', fourcc, 5,(888,500))\n",
    "\n",
    "\n",
    "def helmet_or_nohelmet(helmet_roi):\n",
    "\ttry:\n",
    "\t\thelmet_roi = cv2.resize(helmet_roi, (224, 224))\n",
    "\t\thelmet_roi = np.array(helmet_roi,dtype='float32')\n",
    "\t\thelmet_roi = helmet_roi.reshape(1, 224, 224, 3)\n",
    "\t\thelmet_roi = helmet_roi/255.0\n",
    "\t\treturn int(model.predict(helmet_roi)[0][0])\n",
    "\texcept:\n",
    "\t\t\tpass\n",
    "\n"
   ]
  },
  {
   "cell_type": "code",
   "execution_count": 12,
   "id": "571b14dc",
   "metadata": {},
   "outputs": [],
   "source": [
    "ret = True\n",
    "plates=[] \n",
    "l=0\n",
    "hel_count=0\n",
    "non_hel_count=0\n",
    "path = \"C:/Users/Aditya/Desktop/number_plates\"\n",
    "while ret:\n",
    "\n",
    "    ret, img = cap.read()\n",
    "    img = imutils.resize(img,height=500)\n",
    "    # img = cv2.imread('test.png')\n",
    "    height, width = img.shape[:2]\n",
    "\n",
    "    blob = cv2.dnn.blobFromImage(img, 0.00392, (416, 416), (0, 0, 0), True, crop=False)\n",
    "\n",
    "    net.setInput(blob)\n",
    "    outs = net.forward(output_layers)\n",
    "\n",
    "    confidences = []\n",
    "    boxes = []\n",
    "    classIds = []\n",
    "\n",
    "    for out in outs:\n",
    "        for detection in out:\n",
    "            scores = detection[5:]\n",
    "            class_id = np.argmax(scores)\n",
    "            confidence = scores[class_id]\n",
    "            if confidence > 0.3:\n",
    "                center_x = int(detection[0] * width)\n",
    "                center_y = int(detection[1] * height)\n",
    "\n",
    "                w = int(detection[2] * width)\n",
    "                h = int(detection[3] * height)\n",
    "                x = int(center_x - w / 2)\n",
    "                y = int(center_y - h / 2)\n",
    "\n",
    "                boxes.append([x, y, w, h])\n",
    "                confidences.append(float(confidence))\n",
    "                classIds.append(class_id)\n",
    "\n",
    "    indexes = cv2.dnn.NMSBoxes(boxes, confidences, 0.5, 0.4)\n",
    "\n",
    "    for i in range(len(boxes)):\n",
    "        if i in indexes:\n",
    "            x,y,w,h = boxes[i]\n",
    "            color = [int(c) for c in COLORS[classIds[i]]]\n",
    "            # green --> bike\n",
    "            # red --> number plate\n",
    "            if classIds[i]==0: #bike\n",
    "                helmet_roi = img[max(0,y):max(0,y)+max(0,h)//4,max(0,x):max(0,x)+max(0,w)]\n",
    "            else: #number plate\n",
    "                x_h = x-60\n",
    "                y_h = y-350\n",
    "                w_h = w+100\n",
    "                h_h = h+100\n",
    "                cv2.rectangle(img, (x, y), (x + w, y + h), color, 7)\n",
    "                # h_r = img[max(0,(y-330)):max(0,(y-330 + h+100)) , max(0,(x-80)):max(0,(x-80 + w+130))]\n",
    "                if y_h>0 and x_h>0:\n",
    "                    h_r = img[y_h:y_h+h_h , x_h:x_h +w_h]\n",
    "                    c = helmet_or_nohelmet(h_r)\n",
    "                    cv2.putText(img,['helmet','no-helmet'][c],(x,y-100),cv2.FONT_HERSHEY_SIMPLEX,2,(0,255,0),2)                \n",
    "                    cv2.rectangle(img, (x_h, y_h), (x_h + w_h, y_h + h_h),(255,0,0), 10)\n",
    "                    if(c==1):\n",
    "                        num_img = img[y:y+h, x:x+w]\n",
    "                        cv2.imwrite(os.path.join(path,str(l)+'.jpg'), num_img)\n",
    "                        l=l+1\n",
    "                        non_hel_count=non_hel_count+1\n",
    "                    if(c==0):\n",
    "                        hel_count=hel_count+1\n",
    "                        '''\n",
    "                        num_img = img[y:y+h, x:x+w]\n",
    "                        p_r = pytesseract.image_to_string(num_img, lang ='eng',config ='--oem 3 --psm 7 -c tessedit_char_whitelist=ABCDEFGHIJKLMNOPQRSTUVWXYZ0123456789')\n",
    "                        filter_p_r = \"\".join(p_r.split()).replace(\"\\n\",\" \")\n",
    "                        plates.append(predicted_result)'''\n",
    "    \n",
    "    writer.write(img)\n",
    "    cv2.imshow(\"Image\", img)\n",
    "\n",
    "    if cv2.waitKey(1) == 27:\n",
    "        break\n",
    "\n",
    "writer.release()\n",
    "cap.release()\n",
    "cv2.waitKey(0)\n",
    "cv2.destroyAllWindows()"
   ]
  },
  {
   "cell_type": "code",
   "execution_count": 13,
   "id": "3e465f95",
   "metadata": {},
   "outputs": [
    {
     "name": "stdout",
     "output_type": "stream",
     "text": [
      "Total No. of riders:  15\n",
      "No. of riders with Helmet:  12\n",
      "No. of riders without Helmet:  3\n"
     ]
    }
   ],
   "source": [
    "print(\"Total No. of riders: \", hel_count+non_hel_count)\n",
    "print(\"No. of riders with Helmet: \", hel_count)\n",
    "print(\"No. of riders without Helmet: \", non_hel_count)\n"
   ]
  },
  {
   "cell_type": "code",
   "execution_count": null,
   "id": "65549128",
   "metadata": {},
   "outputs": [],
   "source": []
  }
 ],
 "metadata": {
  "kernelspec": {
   "display_name": "Python 3 (ipykernel)",
   "language": "python",
   "name": "python3"
  },
  "language_info": {
   "codemirror_mode": {
    "name": "ipython",
    "version": 3
   },
   "file_extension": ".py",
   "mimetype": "text/x-python",
   "name": "python",
   "nbconvert_exporter": "python",
   "pygments_lexer": "ipython3",
   "version": "3.8.1"
  }
 },
 "nbformat": 4,
 "nbformat_minor": 5
}
